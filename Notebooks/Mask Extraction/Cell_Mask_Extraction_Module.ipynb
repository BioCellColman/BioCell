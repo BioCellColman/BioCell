{
 "cells": [
  {
   "cell_type": "markdown",
   "metadata": {
    "colab_type": "text",
    "id": "zKLyfb8fm7sy"
   },
   "source": [
    "# Mount to drive and image loading"
   ]
  },
  {
   "cell_type": "code",
   "execution_count": 1,
   "metadata": {
    "colab": {},
    "colab_type": "code",
    "id": "uUHQwLeXKeDg"
   },
   "outputs": [],
   "source": [
    "use_kaggle=False\n",
    "use_jupyter=True"
   ]
  },
  {
   "cell_type": "code",
   "execution_count": 2,
   "metadata": {
    "colab": {},
    "colab_type": "code",
    "id": "dEGwUxSqKi3h"
   },
   "outputs": [
    {
     "name": "stdout",
     "output_type": "stream",
     "text": [
      "Using Jupyter\n",
      " Volume in drive C has no label.\n",
      " Volume Serial Number is B0A9-3BF3\n",
      "\n",
      " Directory of C:\\develop\\python\\Final Project\\Data\n",
      "\n",
      "07/04/2020  16:21    <DIR>          .\n",
      "07/04/2020  16:21    <DIR>          ..\n",
      "07/04/2020  16:21    <DIR>          extracted-masks-images\n",
      "07/04/2020  15:43    <DIR>          masks-images\n",
      "07/04/2020  15:43    <DIR>          resized-images\n",
      "               0 File(s)              0 bytes\n",
      "               5 Dir(s)  446,754,246,656 bytes free\n"
     ]
    }
   ],
   "source": [
    "if use_jupyter:\n",
    "    print(\"Using Jupyter\")\n",
    "    !dir \"C:/develop/python/Final Project/Data/\"\n",
    "elif use_kaggle:\n",
    "    print(\"Using Kaggle\")\n",
    "    !ls \"/kaggle/\"\n",
    "else:\n",
    "    print(\"Using Colab with drive\")\n",
    "    from google.colab import drive\n",
    "    drive.mount('/content/drive')\n",
    "    !ls \"/content/drive/My Drive/Colab Notebooks/ML course/\""
   ]
  },
  {
   "cell_type": "code",
   "execution_count": 3,
   "metadata": {
    "colab": {
     "base_uri": "https://localhost:8080/",
     "height": 138
    },
    "colab_type": "code",
    "id": "TQWdyLrxvffA",
    "outputId": "e67de33e-c5fa-4b27-df78-753d4181e132"
   },
   "outputs": [],
   "source": [
    "# Imports\n",
    "import numpy as np\n",
    "import pandas as pd\n",
    "import uuid\n",
    "import os\n",
    "import csv\n",
    "from skimage import io\n",
    "import matplotlib.pyplot as plt\n",
    "import matplotlib.image as mpimg"
   ]
  },
  {
   "cell_type": "markdown",
   "metadata": {
    "colab_type": "text",
    "id": "eTmnIqRWLY4J"
   },
   "source": [
    "# Consts and Setups"
   ]
  },
  {
   "cell_type": "code",
   "execution_count": 4,
   "metadata": {
    "colab": {},
    "colab_type": "code",
    "id": "9gMAOe8zKsB8"
   },
   "outputs": [],
   "source": [
    "if use_jupyter:\n",
    "    root_input_dir = 'C:/develop/python/Final Project/Data/'\n",
    "    root_output_dir = 'C:/develop/python/Final Project/Data/'\n",
    "elif use_kaggle:\n",
    "    root_input_dir = '/kaggle/input/cells segmentation output/'\n",
    "    root_output_dir = '/kaggle/working/output/'\n",
    "else:\n",
    "    root_input_dir = '/content/drive/My Drive/Colab Notebooks/ML course/Final Project - BioCell/'\n",
    "    root_output_dir = '/content/drive/My Drive/Colab Notebooks/ML course/Final Project - BioCell/'"
   ]
  },
  {
   "cell_type": "code",
   "execution_count": 5,
   "metadata": {
    "colab": {
     "base_uri": "https://localhost:8080/",
     "height": 34
    },
    "colab_type": "code",
    "id": "pM0AbeMji2QQ",
    "outputId": "8400997c-754e-4ab5-cdbc-7e9f8db8dc6e"
   },
   "outputs": [],
   "source": [
    "margin_size = 3\n",
    "cells_subdir = 'resized-images'\n",
    "masks_subdir = 'masks-images'\n",
    "extracted_masks_subdir = 'extracted-masks-images'\n",
    "csv_filename = 'extracted_cells.csv'\n",
    "image_extension = '.png'\n",
    "csv_field_names = ['source_file', 'mask_uuid', 'left_x', 'right_x', 'top_y', 'bottom_y', 'id']"
   ]
  },
  {
   "cell_type": "code",
   "execution_count": 6,
   "metadata": {
    "colab": {},
    "colab_type": "code",
    "id": "nlsZtBt6Ldvm"
   },
   "outputs": [
    {
     "data": {
      "text/plain": [
       "<Figure size 432x288 with 0 Axes>"
      ]
     },
     "metadata": {},
     "output_type": "display_data"
    }
   ],
   "source": [
    "plt.gray()\n",
    "\n",
    "# Inputs\n",
    "cells_images_path = root_input_dir + cells_subdir + '/'\n",
    "masks_images_path = root_input_dir + masks_subdir + '/'\n",
    "\n",
    "# Outputs\n",
    "csv_rows_list = []\n",
    "csv_file_path = root_output_dir + csv_filename\n",
    "extracted_masks_images_path = root_output_dir + extracted_masks_subdir + '/'\n",
    "if not os.path.exists(extracted_masks_images_path):\n",
    "    os.makedirs(extracted_masks_images_path)"
   ]
  },
  {
   "cell_type": "markdown",
   "metadata": {
    "colab_type": "text",
    "id": "4axJS2fBcd4I"
   },
   "source": [
    "# Function Definition"
   ]
  },
  {
   "cell_type": "code",
   "execution_count": 7,
   "metadata": {
    "colab": {},
    "colab_type": "code",
    "id": "trUVTe3i15WW"
   },
   "outputs": [],
   "source": [
    "def get_cell_bbox_location(mask):\n",
    "    mask_x_axis = np.where((mask!=0).argmax(axis=1) != 0)\n",
    "    left_x = mask_x_axis[0][0]\n",
    "    right_x = mask_x_axis[0][len(mask_x_axis[0]) - 1]\n",
    "    mask_y_axis = np.where((mask!=0).argmax(axis=0) != 0)\n",
    "    top_y = mask_y_axis[0][0]\n",
    "    bottom_y = mask_y_axis[0][len(mask_y_axis[0]) - 1]\n",
    "\n",
    "    return left_x, right_x, top_y, bottom_y"
   ]
  },
  {
   "cell_type": "code",
   "execution_count": 8,
   "metadata": {
    "colab": {},
    "colab_type": "code",
    "id": "l6m6yete3Vdu"
   },
   "outputs": [],
   "source": [
    "def save_image(data, image_path):\n",
    "    plt.imsave(image_path, data)"
   ]
  },
  {
   "cell_type": "markdown",
   "metadata": {
    "colab_type": "text",
    "id": "gMX3sZJlLvO2"
   },
   "source": [
    "# Extraction Logic"
   ]
  },
  {
   "cell_type": "code",
   "execution_count": 9,
   "metadata": {
    "colab": {},
    "colab_type": "code",
    "id": "fTQGiakudd0c"
   },
   "outputs": [
    {
     "name": "stdout",
     "output_type": "stream",
     "text": [
      "Writing 21122 lines to extracted_cells.csv\n"
     ]
    }
   ],
   "source": [
    "cell_files = os.listdir(cells_images_path)\n",
    "\n",
    "for filename in cell_files:\n",
    "    # Check if files exist\n",
    "    if not os.path.exists(masks_images_path + filename):\n",
    "        print (\"File \" + masks_images_path + filename + \" does not exist\")\n",
    "        continue\n",
    "\n",
    "    # Full original cells tiff\n",
    "    cells_full_img = io.imread(cells_images_path + filename)\n",
    "\n",
    "    # Mask built by CellProfiler application - each cell gets its own unique id and it's pixels are given that ID value\n",
    "    masks_full_img = io.imread(masks_images_path + filename)\n",
    "\n",
    "    last_id = np.amax(masks_full_img)\n",
    "\n",
    "    for mask_id in range(1, last_id + 1):\n",
    "        mask_uuid = str(uuid.uuid4())\n",
    "        current_mask = masks_full_img.copy()\n",
    "        current_mask = np.where(current_mask == mask_id, 1, 0)\n",
    "\n",
    "        current_cell = cells_full_img.copy()\n",
    "        current_cell = current_cell * current_mask\n",
    "\n",
    "        left_x, right_x, top_y, bottom_y = get_cell_bbox_location(current_mask)\n",
    "\n",
    "        if not (left_x <=3 or right_x <= 3 or top_y <= 3 or bottom_y <= 3):\n",
    "            save_image(current_mask[left_x - margin_size:right_x + margin_size, top_y - margin_size:bottom_y + margin_size], extracted_masks_images_path + mask_uuid + image_extension)\n",
    "            csv_rows_list.append({\n",
    "              \"source_file\": filename,\n",
    "              \"mask_uuid\": mask_uuid,\n",
    "              \"left_x\": left_x,\n",
    "              \"right_x\": right_x,\n",
    "              \"top_y\": top_y,\n",
    "              \"bottom_y\": bottom_y,\n",
    "              \"id\": mask_id\n",
    "            })\n",
    "\n",
    "with open(csv_file_path, 'w', newline='') as file:\n",
    "    writer = csv.DictWriter(file, fieldnames=csv_field_names)\n",
    "    print(f'Writing {len(csv_rows_list)} lines to {csv_filename}')\n",
    "    writer.writerows(csv_rows_list)\n",
    "\n",
    "    # for row in csv_rows_list[0:100]:\n",
    "    #   writer.writerow(row)"
   ]
  }
 ],
 "metadata": {
  "colab": {
   "collapsed_sections": [],
   "name": "Copy of Cell Mask Extraction Module",
   "provenance": []
  },
  "kernelspec": {
   "display_name": "Python 3",
   "language": "python",
   "name": "python3"
  },
  "language_info": {
   "codemirror_mode": {
    "name": "ipython",
    "version": 3
   },
   "file_extension": ".py",
   "mimetype": "text/x-python",
   "name": "python",
   "nbconvert_exporter": "python",
   "pygments_lexer": "ipython3",
   "version": "3.8.0"
  }
 },
 "nbformat": 4,
 "nbformat_minor": 1
}
