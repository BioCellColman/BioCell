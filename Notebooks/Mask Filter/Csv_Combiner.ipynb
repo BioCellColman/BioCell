{
 "cells": [
  {
   "cell_type": "code",
   "execution_count": 28,
   "metadata": {},
   "outputs": [],
   "source": [
    "# Imports\n",
    "import csv\n",
    "import os\n",
    "import sys"
   ]
  },
  {
   "cell_type": "code",
   "execution_count": 29,
   "metadata": {},
   "outputs": [],
   "source": [
    "# Consts\n",
    "output_csv_name = 'combined.csv'\n",
    "path = \"C:/develop/python/Final Project/Data/csv-to-combine/\""
   ]
  },
  {
   "cell_type": "code",
   "execution_count": 30,
   "metadata": {},
   "outputs": [],
   "source": [
    "# Setups\n",
    "output_csv_rows_list = []\n",
    "output_csv_path = path + output_csv_name\n",
    "csv_files = os.listdir(path)"
   ]
  },
  {
   "cell_type": "code",
   "execution_count": 31,
   "metadata": {},
   "outputs": [
    {
     "name": "stdout",
     "output_type": "stream",
     "text": [
      "Read 3144 rows from file - 0-5000_filtered_cells.csv\n",
      "Read 3168 rows from file - 10001-15000_filtered_cells.csv\n",
      "Read 3214 rows from file - 15001-20000_filtered_cells.csv\n",
      "Read 725 rows from file - 20001-21122_filtered_cells.csv\n",
      "Read 3118 rows from file - 5001-10000_filtered_cells.csv\n",
      "Writing 13369 rows to file - combined.csv\n"
     ]
    }
   ],
   "source": [
    "# Combination Logic\n",
    "\n",
    "for f in csv_files:\n",
    "    filename, file_extension = os.path.splitext(f)\n",
    "    if not file_extension == '.csv':\n",
    "        print(f'File {f} is not a .csv file. Skipping')\n",
    "    else:\n",
    "        with open(path + f) as file:\n",
    "            csv_reader = csv.reader(file)\n",
    "            csv_rows = list(csv_reader)\n",
    "            output_csv_rows_list.extend(csv_rows)\n",
    "            print(f'Read {len(csv_rows)} rows from file - {f}')\n",
    "\n",
    "\n",
    "with open(output_csv_path, 'w', newline='') as file:\n",
    "    print(f'Writing {len(output_csv_rows_list)} rows to file - {output_csv_name}')\n",
    "    writer = csv.writer(file)\n",
    "    writer.writerows(output_csv_rows_list)"
   ]
  }
 ],
 "metadata": {
  "kernelspec": {
   "display_name": "Python 3",
   "language": "python",
   "name": "python3"
  },
  "language_info": {
   "codemirror_mode": {
    "name": "ipython",
    "version": 3
   },
   "file_extension": ".py",
   "mimetype": "text/x-python",
   "name": "python",
   "nbconvert_exporter": "python",
   "pygments_lexer": "ipython3",
   "version": "3.8.0"
  }
 },
 "nbformat": 4,
 "nbformat_minor": 4
}
