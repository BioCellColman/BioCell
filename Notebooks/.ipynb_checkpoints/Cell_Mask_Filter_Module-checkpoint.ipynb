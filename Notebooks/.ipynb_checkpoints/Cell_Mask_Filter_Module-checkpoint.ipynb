{
 "cells": [
  {
   "cell_type": "markdown",
   "metadata": {
    "colab_type": "text",
    "id": "zKLyfb8fm7sy"
   },
   "source": [
    "#Imports"
   ]
  },
  {
   "cell_type": "code",
   "execution_count": 0,
   "metadata": {
    "colab": {},
    "colab_type": "code",
    "id": "ghkCkfgbtLUv"
   },
   "outputs": [],
   "source": [
    "use_kaggle=False\n",
    "use_jupyter=False"
   ]
  },
  {
   "cell_type": "code",
   "execution_count": 0,
   "metadata": {
    "colab": {},
    "colab_type": "code",
    "id": "XaEX0_ddtO_t"
   },
   "outputs": [],
   "source": [
    "if use_jupyter:\n",
    "    print(\"Using Jupyter\")\n",
    "    !dir \"C:/develop/python/Final Project/Data/\"\n",
    "elif use_kaggle:\n",
    "    print(\"Using Kaggle\")\n",
    "    !ls \"/kaggle/\"\n",
    "else:\n",
    "    print(\"Using Colab with drive\")\n",
    "    from google.colab import drive\n",
    "    drive.mount('/content/drive')\n",
    "    !ls \"/content/drive/My Drive/Colab Notebooks/ML course/\""
   ]
  },
  {
   "cell_type": "code",
   "execution_count": 0,
   "metadata": {
    "colab": {
     "base_uri": "https://localhost:8080/",
     "height": 50
    },
    "colab_type": "code",
    "id": "TQWdyLrxvffA",
    "outputId": "11645d4f-0ec2-486c-f2d0-93159fc3a3f2"
   },
   "outputs": [
    {
     "name": "stdout",
     "output_type": "stream",
     "text": [
      "Drive already mounted at /content/drive; to attempt to forcibly remount, call drive.mount(\"/content/drive\", force_remount=True).\n",
      "extracted_cells.csv  extracted-masks-images  masks-images  resized-images\n"
     ]
    }
   ],
   "source": [
    "import numpy as np\n",
    "import pandas as pd\n",
    "import uuid\n",
    "import os\n",
    "import csv\n",
    "from skimage import io\n",
    "import matplotlib.pyplot as plt\n",
    "import matplotlib.image as mpimg\n",
    "from google.colab import drive\n",
    "import time\n",
    "\n",
    "from skimage import data, color, img_as_ubyte\n",
    "from skimage.feature import canny\n",
    "from skimage.transform import hough_ellipse\n",
    "from skimage.draw import ellipse_perimeter, ellipse\n",
    "import cv2"
   ]
  },
  {
   "cell_type": "markdown",
   "metadata": {
    "colab_type": "text",
    "id": "eTmnIqRWLY4J"
   },
   "source": [
    "# Consts and Setups"
   ]
  },
  {
   "cell_type": "code",
   "execution_count": 0,
   "metadata": {
    "colab": {},
    "colab_type": "code",
    "id": "9gMAOe8zKsB8"
   },
   "outputs": [],
   "source": [
    "if use_jupyter:\n",
    "    root_input_dir = 'C:/develop/python/Final Project/Data/'\n",
    "    root_output_dir = 'C:/develop/python/Final Project/Data/'\n",
    "elif use_kaggle:\n",
    "    root_input_dir = '/kaggle/input/cells segmentation output/'\n",
    "    root_output_dir = '/kaggle/working/output/'\n",
    "else:\n",
    "    root_input_dir = '/content/drive/My Drive/Colab Notebooks/ML course/Final Project - BioCell/'\n",
    "    root_output_dir = '/content/drive/My Drive/Colab Notebooks/ML course/Final Project - BioCell/'"
   ]
  },
  {
   "cell_type": "code",
   "execution_count": 0,
   "metadata": {
    "colab": {
     "base_uri": "https://localhost:8080/",
     "height": 34
    },
    "colab_type": "code",
    "id": "pM0AbeMji2QQ",
    "outputId": "4513b507-b4ad-4a11-fbf3-ddc00b5094b8"
   },
   "outputs": [
    {
     "data": {
      "text/plain": [
       "<Figure size 432x288 with 0 Axes>"
      ]
     },
     "metadata": {
      "tags": []
     },
     "output_type": "display_data"
    }
   ],
   "source": [
    "cell_masks_subdirectory = 'extracted-masks-images'\n",
    "minimum_cover_percent = 89\n",
    "input_csv_filename = 'extracted_cells.csv'\n",
    "output_csv_filename = 'filtered_cells.csv'\n",
    "images_extension = \".png\"\n",
    "input_csv_field_names = ['source_file', 'mask_uuid', 'left_x', 'right_x', 'top_y', 'bottom_y', 'id']\n",
    "uuid_row_index = 1"
   ]
  },
  {
   "cell_type": "code",
   "execution_count": 0,
   "metadata": {
    "colab": {},
    "colab_type": "code",
    "id": "WY7FCIu9tbuX"
   },
   "outputs": [],
   "source": [
    "plt.gray()\n",
    "\n",
    "# Inputs\n",
    "input_csv_file_path = root_input_dir + input_csv_filename\n",
    "masks_images_path = root_input_dir + cell_masks_subdirectory + '/'\n",
    "\n",
    "# Outputs\n",
    "output_csv_rows_list = []\n",
    "output_csv_file_path = root_output_dir + output_csv_filename"
   ]
  },
  {
   "cell_type": "markdown",
   "metadata": {
    "colab_type": "text",
    "id": "4axJS2fBcd4I"
   },
   "source": [
    "# Function Definition"
   ]
  },
  {
   "cell_type": "code",
   "execution_count": 0,
   "metadata": {
    "colab": {},
    "colab_type": "code",
    "id": "k_mdlzCfuUsm"
   },
   "outputs": [],
   "source": [
    "def getMaskBestEllipse(mask_data):\n",
    "    edges = canny(mask_data, sigma=2.0, low_threshold=0.55, high_threshold=0.8)\n",
    "    ellipses_data = hough_ellipse(edges, accuracy=10, threshold=40, min_size=0, max_size=500)\n",
    "    ellipses_data.sort(order='accumulator')\n",
    "    best = list(ellipses_data[-1])\n",
    "    yc, xc, a, b = [int(round(x)) for x in best[1:5]]\n",
    "    orientation = best[5]\n",
    "    return yc, xc, a, b, orientation"
   ]
  },
  {
   "cell_type": "code",
   "execution_count": 0,
   "metadata": {
    "colab": {},
    "colab_type": "code",
    "id": "mY5xoPLYuUvR"
   },
   "outputs": [],
   "source": [
    "def resizeImage(image_data, scale_size):\n",
    "    width = int(current_mask_data.shape[1] * scale_size)\n",
    "    height = int(current_mask_data.shape[0] * scale_size)\n",
    "    dim = (width, height)\n",
    "    # resize image\n",
    "    return cv2.resize(current_mask_data, dim, interpolation = cv2.INTER_AREA)"
   ]
  },
  {
   "cell_type": "code",
   "execution_count": 0,
   "metadata": {
    "colab": {},
    "colab_type": "code",
    "id": "0jRsULKSdekP"
   },
   "outputs": [],
   "source": [
    "def getEllipseCoverPercent(mask_data, factor_size):\n",
    "    # Resize the image first\n",
    "    resized_image = resizeImage(mask_data, factor_size)\n",
    "    mask_copy = resized_image.copy()\n",
    "\n",
    "    # Get the best ellipse that covers the mask\n",
    "    yc, xc, a, b, orientation = getMaskBestEllipse(resized_image)\n",
    "\n",
    "    # Get the indices of the ellipse fill and the ellipse perimiter\n",
    "    perimiter_y, perimiter_x = ellipse_perimeter(yc, xc, a, b, orientation)\n",
    "    fill_y, fill_x = ellipse(yc, xc, a, b, rotation=-orientation)\n",
    "\n",
    "    try:\n",
    "    # Set 0 (black) in the mask copy where the indexes are located\n",
    "    mask_copy[list(perimiter_y), list(perimiter_x)] = 0\n",
    "    mask_copy[list(fill_y), list(fill_x)] = 0\n",
    "    except:\n",
    "    return 0\n",
    "\n",
    "    # Get the number of nonzero pixels - that is the number of mask pixels that the ellipse does not cover\n",
    "    full_mask_nonzero = np.count_nonzero(resized_image)\n",
    "    ellipse_non_zero = np.count_nonzero(mask_copy)\n",
    "\n",
    "    return ((full_mask_nonzero - ellipse_non_zero) / full_mask_nonzero) * 100"
   ]
  },
  {
   "cell_type": "markdown",
   "metadata": {
    "colab_type": "text",
    "id": "JDx2tjOYudtu"
   },
   "source": [
    "#Filter Logic"
   ]
  },
  {
   "cell_type": "code",
   "execution_count": 0,
   "metadata": {
    "colab": {
     "base_uri": "https://localhost:8080/",
     "height": 185
    },
    "colab_type": "code",
    "id": "RHFtGbT1zWXb",
    "outputId": "993b5620-e8ab-40c0-acdc-6be17734c896"
   },
   "outputs": [
    {
     "name": "stderr",
     "output_type": "stream",
     "text": [
      "/usr/local/lib/python3.6/dist-packages/skimage/draw/draw.py:41: RuntimeWarning: divide by zero encountered in true_divide\n",
      "  + ((r * sin_alpha - c * cos_alpha) / c_rad) ** 2\n",
      "/usr/local/lib/python3.6/dist-packages/skimage/draw/draw.py:41: RuntimeWarning: invalid value encountered in true_divide\n",
      "  + ((r * sin_alpha - c * cos_alpha) / c_rad) ** 2\n",
      "/usr/local/lib/python3.6/dist-packages/skimage/draw/draw.py:42: RuntimeWarning: invalid value encountered in less\n",
      "  return np.nonzero(distances < 1)\n",
      "/usr/local/lib/python3.6/dist-packages/skimage/draw/draw.py:40: RuntimeWarning: divide by zero encountered in true_divide\n",
      "  distances = ((r * cos_alpha + c * sin_alpha) / r_rad) ** 2 \\\n",
      "/usr/local/lib/python3.6/dist-packages/skimage/draw/draw.py:40: RuntimeWarning: invalid value encountered in true_divide\n",
      "  distances = ((r * cos_alpha + c * sin_alpha) / r_rad) ** 2 \\\n"
     ]
    }
   ],
   "source": [
    "# TODO:\n",
    "# Read the csv file, which is the output of the extraction module\n",
    "# Loop over the lines and foreach line extract and read the mask image (using the uuid)\n",
    "# get the ellipse data from the getMaskBestEllipse function\n",
    "# set the mask copy values to 0 (black) in the ellipse area\n",
    "# calculate the number of nonzero pixels in the mask copy\n",
    "# if it exceeds a predefined value (max_white_pixel_outside_ellipse, need to decide what is the best value) - it's not a good filter\n",
    "# if it does not exceed - a good filter, insert the line from the input csv to a new output csv\n",
    "\n",
    "with open(input_csv_file_path) as csv_file:\n",
    "    csv_reader = csv.reader(csv_file, delimiter=',')\n",
    "    for line in csv_reader:\n",
    "        # Get the mask data\n",
    "        current_mask_uuid = line[uuid_row_index]\n",
    "        current_mask_filename = current_mask_uuid + images_extension\n",
    "        current_mask_data = io.imread(masks_images_path + current_mask_filename, as_gray=True)\n",
    "\n",
    "        # Check the cover percent when scaling the image by 2\n",
    "        cover_percent_2 = getEllipseCoverPercent(current_mask_data, 2)\n",
    "\n",
    "        if cover_percent_2 > minimum_cover_percent:\n",
    "            output_csv_rows_list.append({\n",
    "                \"source_file\": line[0],\n",
    "                \"mask_uuid\": line[1],\n",
    "                \"left_x\": line[2],\n",
    "                \"right_x\": line[3],\n",
    "                \"top_y\": line[4],\n",
    "                \"bottom_y\": line[5],\n",
    "                \"id\": line[6]\n",
    "            })\n",
    "        else:\n",
    "            cover_percent_3 = getEllipseCoverPercent(current_mask_data, 3)\n",
    "            if cover_percent_3 > minimum_cover_percent:\n",
    "                output_csv_rows_list.append({\n",
    "                    \"source_file\": line[0],\n",
    "                    \"mask_uuid\": line[1],\n",
    "                    \"left_x\": line[2],\n",
    "                    \"right_x\": line[3],\n",
    "                    \"top_y\": line[4],\n",
    "                    \"bottom_y\": line[5],\n",
    "                    \"id\": line[6]\n",
    "                })\n",
    "            else:\n",
    "                cover_percent_4 = getEllipseCoverPercent(current_mask_data, 4)\n",
    "                if cover_percent_4 > minimum_cover_percent:\n",
    "                    output_csv_rows_list.append({\n",
    "                        \"source_file\": line[0],\n",
    "                        \"mask_uuid\": line[1],\n",
    "                        \"left_x\": line[2],\n",
    "                        \"right_x\": line[3],\n",
    "                        \"top_y\": line[4],\n",
    "                        \"bottom_y\": line[5],\n",
    "                        \"id\": line[6]\n",
    "                    })\n",
    "                    \n",
    "                    \n",
    "with open(output_csv_file_path, 'w', newline='') as file:\n",
    "    writer = csv.DictWriter(file, fieldnames=csv_field_names)\n",
    "    print(f'Writing {len(output_csv_rows_list)} filtered lines to {output_csv_filename}')\n",
    "    writer.writerows(output_csv_rows_list)"
   ]
  },
  {
   "cell_type": "code",
   "execution_count": 0,
   "metadata": {
    "colab": {},
    "colab_type": "code",
    "id": "_bcVhRkY5qqG"
   },
   "outputs": [],
   "source": []
  },
  {
   "cell_type": "code",
   "execution_count": 0,
   "metadata": {
    "colab": {},
    "colab_type": "code",
    "id": "agfUggP1pfqq"
   },
   "outputs": [],
   "source": [
    "# # Read the input csv file\n",
    "# with open(input_csv_file_path) as csv_file:\n",
    "#   csv_reader = csv.reader(csv_file, delimiter=',')\n",
    "#   input_csv_rows_list = list(csv_reader)"
   ]
  }
 ],
 "metadata": {
  "colab": {
   "collapsed_sections": [],
   "machine_shape": "hm",
   "name": "Copy of Cell Mask Filter Module",
   "provenance": []
  },
  "kernelspec": {
   "display_name": "Python 3",
   "language": "python",
   "name": "python3"
  },
  "language_info": {
   "codemirror_mode": {
    "name": "ipython",
    "version": 3
   },
   "file_extension": ".py",
   "mimetype": "text/x-python",
   "name": "python",
   "nbconvert_exporter": "python",
   "pygments_lexer": "ipython3",
   "version": "3.8.0"
  }
 },
 "nbformat": 4,
 "nbformat_minor": 1
}
