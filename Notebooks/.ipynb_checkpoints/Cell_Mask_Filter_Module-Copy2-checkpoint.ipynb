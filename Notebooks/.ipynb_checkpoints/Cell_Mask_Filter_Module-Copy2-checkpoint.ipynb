{
 "cells": [
  {
   "cell_type": "markdown",
   "metadata": {
    "colab_type": "text",
    "id": "zKLyfb8fm7sy"
   },
   "source": [
    "# Imports"
   ]
  },
  {
   "cell_type": "code",
   "execution_count": 1,
   "metadata": {
    "colab": {},
    "colab_type": "code",
    "id": "ghkCkfgbtLUv"
   },
   "outputs": [],
   "source": [
    "use_kaggle=False\n",
    "use_jupyter=True"
   ]
  },
  {
   "cell_type": "code",
   "execution_count": 2,
   "metadata": {
    "colab": {},
    "colab_type": "code",
    "id": "XaEX0_ddtO_t"
   },
   "outputs": [
    {
     "name": "stdout",
     "output_type": "stream",
     "text": [
      "Using Jupyter\n",
      " Volume in drive C has no label.\n",
      " Volume Serial Number is B0A9-3BF3\n",
      "\n",
      " Directory of C:\\develop\\python\\Final Project\\Data\n",
      "\n",
      "07/04/2020  16:24    <DIR>          .\n",
      "07/04/2020  16:24    <DIR>          ..\n",
      "07/04/2020  16:24    <DIR>          extracted-masks-images\n",
      "07/04/2020  16:24         1,856,537 extracted_cells.csv\n",
      "07/04/2020  15:43    <DIR>          masks-images\n",
      "07/04/2020  15:43    <DIR>          resized-images\n",
      "               1 File(s)      1,856,537 bytes\n",
      "               5 Dir(s)  446,780,628,992 bytes free\n"
     ]
    }
   ],
   "source": [
    "if use_jupyter:\n",
    "    print(\"Using Jupyter\")\n",
    "    !dir \"C:/develop/python/Final Project/Data/\"\n",
    "elif use_kaggle:\n",
    "    print(\"Using Kaggle\")\n",
    "    !ls \"/kaggle/\"\n",
    "else:\n",
    "    print(\"Using Colab with drive\")\n",
    "    from google.colab import drive\n",
    "    drive.mount('/content/drive')\n",
    "    !ls \"/content/drive/My Drive/Colab Notebooks/ML course/\""
   ]
  },
  {
   "cell_type": "code",
   "execution_count": 3,
   "metadata": {
    "colab": {
     "base_uri": "https://localhost:8080/",
     "height": 50
    },
    "colab_type": "code",
    "id": "TQWdyLrxvffA",
    "outputId": "11645d4f-0ec2-486c-f2d0-93159fc3a3f2"
   },
   "outputs": [],
   "source": [
    "import numpy as np\n",
    "import pandas as pd\n",
    "import uuid\n",
    "import os\n",
    "import csv\n",
    "import matplotlib.pyplot as plt\n",
    "import matplotlib.image as mpimg\n",
    "import time\n",
    "import cv2\n",
    "from skimage import io\n",
    "from skimage import data, color, img_as_ubyte\n",
    "from skimage.feature import canny\n",
    "from skimage.transform import hough_ellipse\n",
    "from skimage.draw import ellipse_perimeter, ellipse"
   ]
  },
  {
   "cell_type": "markdown",
   "metadata": {
    "colab_type": "text",
    "id": "eTmnIqRWLY4J"
   },
   "source": [
    "# Consts and Setups"
   ]
  },
  {
   "cell_type": "code",
   "execution_count": 4,
   "metadata": {
    "colab": {},
    "colab_type": "code",
    "id": "9gMAOe8zKsB8"
   },
   "outputs": [],
   "source": [
    "if use_jupyter:\n",
    "    root_input_dir = 'C:/develop/python/Final Project/Data/'\n",
    "    root_output_dir = 'C:/develop/python/Final Project/Data/'\n",
    "elif use_kaggle:\n",
    "    root_input_dir = '/kaggle/input/cells segmentation output/'\n",
    "    root_output_dir = '/kaggle/working/output/'\n",
    "else:\n",
    "    root_input_dir = '/content/drive/My Drive/Colab Notebooks/ML course/Final Project - BioCell/'\n",
    "    root_output_dir = '/content/drive/My Drive/Colab Notebooks/ML course/Final Project - BioCell/'"
   ]
  },
  {
   "cell_type": "code",
   "execution_count": 5,
   "metadata": {
    "colab": {
     "base_uri": "https://localhost:8080/",
     "height": 34
    },
    "colab_type": "code",
    "id": "pM0AbeMji2QQ",
    "outputId": "4513b507-b4ad-4a11-fbf3-ddc00b5094b8"
   },
   "outputs": [],
   "source": [
    "cell_masks_subdirectory = 'extracted-masks-images'\n",
    "minimum_cover_percent = 89\n",
    "max_factor_size = 5\n",
    "uuid_row_index = 1\n",
    "input_csv_filename = 'extracted_cells.csv'\n",
    "output_csv_filename = 'filtered_cells.csv'\n",
    "images_extension = \".png\"\n",
    "input_csv_field_names = ['source_file', 'mask_uuid', 'left_x', 'right_x', 'top_y', 'bottom_y', 'id']"
   ]
  },
  {
   "cell_type": "code",
   "execution_count": 6,
   "metadata": {
    "colab": {},
    "colab_type": "code",
    "id": "WY7FCIu9tbuX"
   },
   "outputs": [
    {
     "data": {
      "text/plain": [
       "<Figure size 432x288 with 0 Axes>"
      ]
     },
     "metadata": {},
     "output_type": "display_data"
    }
   ],
   "source": [
    "plt.gray()\n",
    "np.seterr(divide='ignore', invalid='ignore')\n",
    "\n",
    "# Inputs\n",
    "input_csv_file_path = root_input_dir + input_csv_filename\n",
    "masks_images_path = root_input_dir + cell_masks_subdirectory + '/'\n",
    "\n",
    "# Outputs\n",
    "output_csv_rows_list = []\n",
    "output_csv_file_path = root_output_dir + output_csv_filename"
   ]
  },
  {
   "cell_type": "markdown",
   "metadata": {
    "colab_type": "text",
    "id": "4axJS2fBcd4I"
   },
   "source": [
    "# Function Definition"
   ]
  },
  {
   "cell_type": "code",
   "execution_count": 7,
   "metadata": {
    "colab": {},
    "colab_type": "code",
    "id": "k_mdlzCfuUsm"
   },
   "outputs": [],
   "source": [
    "def getMaskBestEllipse(mask_data):\n",
    "    edges = canny(mask_data, sigma=2.0, low_threshold=0.55, high_threshold=0.8)\n",
    "    ellipses_data = hough_ellipse(edges, accuracy=10, threshold=40, min_size=0, max_size=500)\n",
    "    ellipses_data.sort(order='accumulator')\n",
    "    best = list(ellipses_data[-1])\n",
    "    yc, xc, a, b = [int(round(x)) for x in best[1:5]]\n",
    "    orientation = best[5]\n",
    "    return yc, xc, a, b, orientation"
   ]
  },
  {
   "cell_type": "code",
   "execution_count": 8,
   "metadata": {
    "colab": {},
    "colab_type": "code",
    "id": "mY5xoPLYuUvR"
   },
   "outputs": [],
   "source": [
    "def resizeImage(image_data, scale_size):\n",
    "    width = int(current_mask_data.shape[1] * scale_size)\n",
    "    height = int(current_mask_data.shape[0] * scale_size)\n",
    "    dim = (width, height)\n",
    "    # resize image\n",
    "    return cv2.resize(current_mask_data, dim, interpolation = cv2.INTER_AREA)"
   ]
  },
  {
   "cell_type": "code",
   "execution_count": 9,
   "metadata": {
    "colab": {},
    "colab_type": "code",
    "id": "0jRsULKSdekP"
   },
   "outputs": [],
   "source": [
    "def getEllipseCoverPercent(mask_data, factor_size):\n",
    "    # Resize the image first\n",
    "    resized_image = resizeImage(mask_data, factor_size)\n",
    "    mask_copy = resized_image.copy()\n",
    "\n",
    "    # Get the best ellipse that covers the mask\n",
    "    yc, xc, a, b, orientation = getMaskBestEllipse(resized_image)\n",
    "\n",
    "    # Try to draw the best ellipse on the mask\n",
    "    try:\n",
    "        # Get the indices of the ellipse fill and the ellipse perimiter\n",
    "        perimiter_y, perimiter_x = ellipse_perimeter(yc, xc, a, b, orientation)\n",
    "        fill_y, fill_x = ellipse(yc, xc, a, b, rotation=-orientation)\n",
    "\n",
    "        # Set 0 (black) in the mask copy where the indexes are located\n",
    "        mask_copy[list(perimiter_y), list(perimiter_x)] = 0\n",
    "        mask_copy[list(fill_y), list(fill_x)] = 0\n",
    "        \n",
    "        # Get the number of nonzero pixels - that is the number of mask pixels that the ellipse does not cover\n",
    "        full_mask_nonzero = np.count_nonzero(resized_image)\n",
    "        ellipse_non_zero = np.count_nonzero(mask_copy)\n",
    "\n",
    "        return ((full_mask_nonzero - ellipse_non_zero) / full_mask_nonzero) * 100\n",
    "    except:\n",
    "        print(f'Could not get ellipse for factor size {factor_size}')\n",
    "        return 0"
   ]
  },
  {
   "cell_type": "markdown",
   "metadata": {
    "colab_type": "text",
    "id": "JDx2tjOYudtu"
   },
   "source": [
    "# Filter Logic"
   ]
  },
  {
   "cell_type": "code",
   "execution_count": 10,
   "metadata": {
    "colab": {
     "base_uri": "https://localhost:8080/",
     "height": 185
    },
    "colab_type": "code",
    "id": "RHFtGbT1zWXb",
    "outputId": "993b5620-e8ab-40c0-acdc-6be17734c896"
   },
   "outputs": [
    {
     "name": "stdout",
     "output_type": "stream",
     "text": [
      "line number 1\n",
      "line number 2\n",
      "line number 3\n",
      "line number 4\n",
      "line number 5\n",
      "line number 6\n",
      "line number 7\n",
      "line number 8\n",
      "line number 9\n",
      "line number 10\n",
      "line number 11\n",
      "line number 12\n",
      "line number 13\n",
      "line number 14\n",
      "line number 15\n",
      "line number 16\n",
      "line number 17\n",
      "line number 18\n",
      "line number 19\n",
      "line number 20\n",
      "line number 21\n",
      "line number 22\n",
      "line number 23\n",
      "line number 24\n",
      "line number 25\n",
      "line number 26\n",
      "line number 27\n",
      "line number 28\n",
      "Could not get ellipse for factor size 2\n",
      "line number 29\n",
      "line number 30\n",
      "line number 31\n",
      "line number 32\n",
      "line number 33\n",
      "line number 34\n",
      "line number 35\n",
      "line number 36\n",
      "line number 37\n",
      "line number 38\n",
      "line number 39\n",
      "line number 40\n",
      "line number 41\n",
      "Could not get ellipse for factor size 2\n",
      "line number 42\n",
      "line number 43\n",
      "line number 44\n",
      "line number 45\n",
      "line number 46\n",
      "line number 47\n",
      "line number 48\n",
      "line number 49\n",
      "line number 50\n",
      "line number 51\n",
      "line number 52\n",
      "line number 53\n",
      "line number 54\n",
      "line number 55\n",
      "line number 56\n",
      "line number 57\n",
      "line number 58\n",
      "line number 59\n",
      "line number 60\n",
      "line number 61\n",
      "line number 62\n",
      "line number 63\n",
      "line number 64\n",
      "line number 65\n",
      "line number 66\n",
      "line number 67\n",
      "line number 68\n",
      "line number 69\n",
      "line number 70\n",
      "line number 71\n",
      "line number 72\n",
      "line number 73\n",
      "line number 74\n",
      "Could not get ellipse for factor size 4\n",
      "line number 75\n",
      "line number 76\n",
      "line number 77\n",
      "line number 78\n",
      "line number 79\n",
      "line number 80\n",
      "line number 81\n",
      "line number 82\n",
      "line number 83\n",
      "line number 84\n",
      "line number 85\n",
      "line number 86\n",
      "line number 87\n",
      "line number 88\n",
      "line number 89\n",
      "line number 90\n",
      "line number 91\n",
      "line number 92\n",
      "line number 93\n",
      "line number 94\n",
      "line number 95\n",
      "line number 96\n",
      "line number 97\n",
      "line number 98\n",
      "line number 99\n",
      "line number 100\n",
      "line number 101\n",
      "line number 102\n",
      "line number 103\n",
      "line number 104\n",
      "line number 105\n",
      "line number 106\n",
      "line number 107\n",
      "line number 108\n",
      "line number 109\n",
      "line number 110\n",
      "line number 111\n",
      "line number 112\n",
      "line number 113\n",
      "line number 114\n",
      "line number 115\n",
      "line number 116\n"
     ]
    },
    {
     "ename": "KeyboardInterrupt",
     "evalue": "",
     "output_type": "error",
     "traceback": [
      "\u001b[1;31m---------------------------------------------------------------------------\u001b[0m",
      "\u001b[1;31mKeyboardInterrupt\u001b[0m                         Traceback (most recent call last)",
      "\u001b[1;32m<ipython-input-10-a8cc98c7b873>\u001b[0m in \u001b[0;36m<module>\u001b[1;34m\u001b[0m\n\u001b[0;32m     25\u001b[0m         \u001b[1;32mwhile\u001b[0m \u001b[0mfactor_size\u001b[0m \u001b[1;33m<=\u001b[0m \u001b[0mmax_factor_size\u001b[0m \u001b[1;32mand\u001b[0m \u001b[1;32mnot\u001b[0m \u001b[0mellipse_detected\u001b[0m\u001b[1;33m:\u001b[0m\u001b[1;33m\u001b[0m\u001b[1;33m\u001b[0m\u001b[0m\n\u001b[0;32m     26\u001b[0m             \u001b[1;31m# Get the coverage percent for the curretn sace factor\u001b[0m\u001b[1;33m\u001b[0m\u001b[1;33m\u001b[0m\u001b[1;33m\u001b[0m\u001b[0m\n\u001b[1;32m---> 27\u001b[1;33m             \u001b[0mcurrent_cover_percent\u001b[0m \u001b[1;33m=\u001b[0m \u001b[0mgetEllipseCoverPercent\u001b[0m\u001b[1;33m(\u001b[0m\u001b[0mcurrent_mask_data\u001b[0m\u001b[1;33m,\u001b[0m \u001b[0mfactor_size\u001b[0m\u001b[1;33m)\u001b[0m\u001b[1;33m\u001b[0m\u001b[1;33m\u001b[0m\u001b[0m\n\u001b[0m\u001b[0;32m     28\u001b[0m \u001b[1;33m\u001b[0m\u001b[0m\n\u001b[0;32m     29\u001b[0m             \u001b[1;31m# If the coverage percentage is greater than the wanted minimum - this is a good mask\u001b[0m\u001b[1;33m\u001b[0m\u001b[1;33m\u001b[0m\u001b[1;33m\u001b[0m\u001b[0m\n",
      "\u001b[1;32m<ipython-input-9-5ecd050e2c71>\u001b[0m in \u001b[0;36mgetEllipseCoverPercent\u001b[1;34m(mask_data, factor_size)\u001b[0m\n\u001b[0;32m      5\u001b[0m \u001b[1;33m\u001b[0m\u001b[0m\n\u001b[0;32m      6\u001b[0m     \u001b[1;31m# Get the best ellipse that covers the mask\u001b[0m\u001b[1;33m\u001b[0m\u001b[1;33m\u001b[0m\u001b[1;33m\u001b[0m\u001b[0m\n\u001b[1;32m----> 7\u001b[1;33m     \u001b[0myc\u001b[0m\u001b[1;33m,\u001b[0m \u001b[0mxc\u001b[0m\u001b[1;33m,\u001b[0m \u001b[0ma\u001b[0m\u001b[1;33m,\u001b[0m \u001b[0mb\u001b[0m\u001b[1;33m,\u001b[0m \u001b[0morientation\u001b[0m \u001b[1;33m=\u001b[0m \u001b[0mgetMaskBestEllipse\u001b[0m\u001b[1;33m(\u001b[0m\u001b[0mresized_image\u001b[0m\u001b[1;33m)\u001b[0m\u001b[1;33m\u001b[0m\u001b[1;33m\u001b[0m\u001b[0m\n\u001b[0m\u001b[0;32m      8\u001b[0m \u001b[1;33m\u001b[0m\u001b[0m\n\u001b[0;32m      9\u001b[0m     \u001b[1;31m# Try to draw the best ellipse on the mask\u001b[0m\u001b[1;33m\u001b[0m\u001b[1;33m\u001b[0m\u001b[1;33m\u001b[0m\u001b[0m\n",
      "\u001b[1;32m<ipython-input-7-ae40da4ea11a>\u001b[0m in \u001b[0;36mgetMaskBestEllipse\u001b[1;34m(mask_data)\u001b[0m\n\u001b[0;32m      1\u001b[0m \u001b[1;32mdef\u001b[0m \u001b[0mgetMaskBestEllipse\u001b[0m\u001b[1;33m(\u001b[0m\u001b[0mmask_data\u001b[0m\u001b[1;33m)\u001b[0m\u001b[1;33m:\u001b[0m\u001b[1;33m\u001b[0m\u001b[1;33m\u001b[0m\u001b[0m\n\u001b[0;32m      2\u001b[0m     \u001b[0medges\u001b[0m \u001b[1;33m=\u001b[0m \u001b[0mcanny\u001b[0m\u001b[1;33m(\u001b[0m\u001b[0mmask_data\u001b[0m\u001b[1;33m,\u001b[0m \u001b[0msigma\u001b[0m\u001b[1;33m=\u001b[0m\u001b[1;36m2.0\u001b[0m\u001b[1;33m,\u001b[0m \u001b[0mlow_threshold\u001b[0m\u001b[1;33m=\u001b[0m\u001b[1;36m0.55\u001b[0m\u001b[1;33m,\u001b[0m \u001b[0mhigh_threshold\u001b[0m\u001b[1;33m=\u001b[0m\u001b[1;36m0.8\u001b[0m\u001b[1;33m)\u001b[0m\u001b[1;33m\u001b[0m\u001b[1;33m\u001b[0m\u001b[0m\n\u001b[1;32m----> 3\u001b[1;33m     \u001b[0mellipses_data\u001b[0m \u001b[1;33m=\u001b[0m \u001b[0mhough_ellipse\u001b[0m\u001b[1;33m(\u001b[0m\u001b[0medges\u001b[0m\u001b[1;33m,\u001b[0m \u001b[0maccuracy\u001b[0m\u001b[1;33m=\u001b[0m\u001b[1;36m10\u001b[0m\u001b[1;33m,\u001b[0m \u001b[0mthreshold\u001b[0m\u001b[1;33m=\u001b[0m\u001b[1;36m40\u001b[0m\u001b[1;33m,\u001b[0m \u001b[0mmin_size\u001b[0m\u001b[1;33m=\u001b[0m\u001b[1;36m0\u001b[0m\u001b[1;33m,\u001b[0m \u001b[0mmax_size\u001b[0m\u001b[1;33m=\u001b[0m\u001b[1;36m500\u001b[0m\u001b[1;33m)\u001b[0m\u001b[1;33m\u001b[0m\u001b[1;33m\u001b[0m\u001b[0m\n\u001b[0m\u001b[0;32m      4\u001b[0m     \u001b[0mellipses_data\u001b[0m\u001b[1;33m.\u001b[0m\u001b[0msort\u001b[0m\u001b[1;33m(\u001b[0m\u001b[0morder\u001b[0m\u001b[1;33m=\u001b[0m\u001b[1;34m'accumulator'\u001b[0m\u001b[1;33m)\u001b[0m\u001b[1;33m\u001b[0m\u001b[1;33m\u001b[0m\u001b[0m\n\u001b[0;32m      5\u001b[0m     \u001b[0mbest\u001b[0m \u001b[1;33m=\u001b[0m \u001b[0mlist\u001b[0m\u001b[1;33m(\u001b[0m\u001b[0mellipses_data\u001b[0m\u001b[1;33m[\u001b[0m\u001b[1;33m-\u001b[0m\u001b[1;36m1\u001b[0m\u001b[1;33m]\u001b[0m\u001b[1;33m)\u001b[0m\u001b[1;33m\u001b[0m\u001b[1;33m\u001b[0m\u001b[0m\n",
      "\u001b[1;32mc:\\users\\tamir\\appdata\\local\\programs\\python\\python38-32\\lib\\site-packages\\skimage\\transform\\hough_transform.py\u001b[0m in \u001b[0;36mhough_ellipse\u001b[1;34m(image, threshold, accuracy, min_size, max_size)\u001b[0m\n\u001b[0;32m    160\u001b[0m            \u001b[0mConference\u001b[0m \u001b[0mon\u001b[0m\u001b[1;33m.\u001b[0m \u001b[0mVol\u001b[0m\u001b[1;33m.\u001b[0m \u001b[1;36m2.\u001b[0m \u001b[0mIEEE\u001b[0m\u001b[1;33m,\u001b[0m \u001b[1;36m2002\u001b[0m\u001b[1;33m\u001b[0m\u001b[1;33m\u001b[0m\u001b[0m\n\u001b[0;32m    161\u001b[0m     \"\"\"\n\u001b[1;32m--> 162\u001b[1;33m     return _hough_ellipse(image, threshold=threshold, accuracy=accuracy,\n\u001b[0m\u001b[0;32m    163\u001b[0m                           min_size=min_size, max_size=max_size)\n\u001b[0;32m    164\u001b[0m \u001b[1;33m\u001b[0m\u001b[0m\n",
      "\u001b[1;32mskimage\\transform\\_hough_transform.pyx\u001b[0m in \u001b[0;36mskimage.transform._hough_transform._hough_ellipse\u001b[1;34m()\u001b[0m\n",
      "\u001b[1;32m<__array_function__ internals>\u001b[0m in \u001b[0;36mhistogram\u001b[1;34m(*args, **kwargs)\u001b[0m\n",
      "\u001b[1;32mc:\\users\\tamir\\appdata\\local\\programs\\python\\python38-32\\lib\\site-packages\\numpy\\lib\\histograms.py\u001b[0m in \u001b[0;36mhistogram\u001b[1;34m(a, bins, range, normed, weights, density)\u001b[0m\n\u001b[0;32m    878\u001b[0m         \u001b[1;32mif\u001b[0m \u001b[0mweights\u001b[0m \u001b[1;32mis\u001b[0m \u001b[1;32mNone\u001b[0m\u001b[1;33m:\u001b[0m\u001b[1;33m\u001b[0m\u001b[1;33m\u001b[0m\u001b[0m\n\u001b[0;32m    879\u001b[0m             \u001b[1;32mfor\u001b[0m \u001b[0mi\u001b[0m \u001b[1;32min\u001b[0m \u001b[0m_range\u001b[0m\u001b[1;33m(\u001b[0m\u001b[1;36m0\u001b[0m\u001b[1;33m,\u001b[0m \u001b[0mlen\u001b[0m\u001b[1;33m(\u001b[0m\u001b[0ma\u001b[0m\u001b[1;33m)\u001b[0m\u001b[1;33m,\u001b[0m \u001b[0mBLOCK\u001b[0m\u001b[1;33m)\u001b[0m\u001b[1;33m:\u001b[0m\u001b[1;33m\u001b[0m\u001b[1;33m\u001b[0m\u001b[0m\n\u001b[1;32m--> 880\u001b[1;33m                 \u001b[0msa\u001b[0m \u001b[1;33m=\u001b[0m \u001b[0mnp\u001b[0m\u001b[1;33m.\u001b[0m\u001b[0msort\u001b[0m\u001b[1;33m(\u001b[0m\u001b[0ma\u001b[0m\u001b[1;33m[\u001b[0m\u001b[0mi\u001b[0m\u001b[1;33m:\u001b[0m\u001b[0mi\u001b[0m\u001b[1;33m+\u001b[0m\u001b[0mBLOCK\u001b[0m\u001b[1;33m]\u001b[0m\u001b[1;33m)\u001b[0m\u001b[1;33m\u001b[0m\u001b[1;33m\u001b[0m\u001b[0m\n\u001b[0m\u001b[0;32m    881\u001b[0m                 \u001b[0mcum_n\u001b[0m \u001b[1;33m+=\u001b[0m \u001b[0m_search_sorted_inclusive\u001b[0m\u001b[1;33m(\u001b[0m\u001b[0msa\u001b[0m\u001b[1;33m,\u001b[0m \u001b[0mbin_edges\u001b[0m\u001b[1;33m)\u001b[0m\u001b[1;33m\u001b[0m\u001b[1;33m\u001b[0m\u001b[0m\n\u001b[0;32m    882\u001b[0m         \u001b[1;32melse\u001b[0m\u001b[1;33m:\u001b[0m\u001b[1;33m\u001b[0m\u001b[1;33m\u001b[0m\u001b[0m\n",
      "\u001b[1;32m<__array_function__ internals>\u001b[0m in \u001b[0;36msort\u001b[1;34m(*args, **kwargs)\u001b[0m\n",
      "\u001b[1;32mc:\\users\\tamir\\appdata\\local\\programs\\python\\python38-32\\lib\\site-packages\\numpy\\core\\fromnumeric.py\u001b[0m in \u001b[0;36msort\u001b[1;34m(a, axis, kind, order)\u001b[0m\n\u001b[0;32m    968\u001b[0m     \u001b[1;32melse\u001b[0m\u001b[1;33m:\u001b[0m\u001b[1;33m\u001b[0m\u001b[1;33m\u001b[0m\u001b[0m\n\u001b[0;32m    969\u001b[0m         \u001b[0ma\u001b[0m \u001b[1;33m=\u001b[0m \u001b[0masanyarray\u001b[0m\u001b[1;33m(\u001b[0m\u001b[0ma\u001b[0m\u001b[1;33m)\u001b[0m\u001b[1;33m.\u001b[0m\u001b[0mcopy\u001b[0m\u001b[1;33m(\u001b[0m\u001b[0morder\u001b[0m\u001b[1;33m=\u001b[0m\u001b[1;34m\"K\"\u001b[0m\u001b[1;33m)\u001b[0m\u001b[1;33m\u001b[0m\u001b[1;33m\u001b[0m\u001b[0m\n\u001b[1;32m--> 970\u001b[1;33m     \u001b[0ma\u001b[0m\u001b[1;33m.\u001b[0m\u001b[0msort\u001b[0m\u001b[1;33m(\u001b[0m\u001b[0maxis\u001b[0m\u001b[1;33m=\u001b[0m\u001b[0maxis\u001b[0m\u001b[1;33m,\u001b[0m \u001b[0mkind\u001b[0m\u001b[1;33m=\u001b[0m\u001b[0mkind\u001b[0m\u001b[1;33m,\u001b[0m \u001b[0morder\u001b[0m\u001b[1;33m=\u001b[0m\u001b[0morder\u001b[0m\u001b[1;33m)\u001b[0m\u001b[1;33m\u001b[0m\u001b[1;33m\u001b[0m\u001b[0m\n\u001b[0m\u001b[0;32m    971\u001b[0m     \u001b[1;32mreturn\u001b[0m \u001b[0ma\u001b[0m\u001b[1;33m\u001b[0m\u001b[1;33m\u001b[0m\u001b[0m\n\u001b[0;32m    972\u001b[0m \u001b[1;33m\u001b[0m\u001b[0m\n",
      "\u001b[1;31mKeyboardInterrupt\u001b[0m: "
     ]
    }
   ],
   "source": [
    "# TODO:\n",
    "# Read the csv file, which is the output of the extraction module\n",
    "# Loop over the lines and foreach line extract and read the mask image (using the uuid)\n",
    "# get the ellipse data from the getMaskBestEllipse function\n",
    "# set the mask copy values to 0 (black) in the ellipse area\n",
    "# calculate the number of nonzero pixels in the mask copy\n",
    "# if it exceeds a predefined value (max_white_pixel_outside_ellipse, need to decide what is the best value) - it's not a good filter\n",
    "# if it does not exceed - a good filter, insert the line from the input csv to a new output csv\n",
    "\n",
    "with open(input_csv_file_path) as csv_file:\n",
    "    csv_reader = csv.reader(csv_file, delimiter=',')\n",
    "    counter = 0\n",
    "    for line in csv_reader:\n",
    "        counter = counter + 1\n",
    "        print(f'line number {counter}')\n",
    "        # Get the mask data\n",
    "        current_mask_uuid = line[uuid_row_index]\n",
    "        current_mask_filename = current_mask_uuid + images_extension\n",
    "        current_mask_data = io.imread(masks_images_path + current_mask_filename, as_gray=True)\n",
    "\n",
    "        # Check the cover percent when scaling the image by 2\n",
    "        factor_size = 2\n",
    "        ellipse_detected = False\n",
    "        \n",
    "        while factor_size <= max_factor_size and not ellipse_detected:\n",
    "            # Get the coverage percent for the curretn sace factor\n",
    "            current_cover_percent = getEllipseCoverPercent(current_mask_data, factor_size)\n",
    "\n",
    "            # If the coverage percentage is greater than the wanted minimum - this is a good mask\n",
    "            if current_cover_percent > minimum_cover_percent:\n",
    "                output_csv_rows_list.append({\n",
    "                    \"source_file\": line[0],\n",
    "                    \"mask_uuid\": line[1],\n",
    "                    \"left_x\": line[2],\n",
    "                    \"right_x\": line[3],\n",
    "                    \"top_y\": line[4],\n",
    "                    \"bottom_y\": line[5],\n",
    "                    \"id\": line[6]\n",
    "                })\n",
    "            \n",
    "            factor_size = factor_size + 1\n",
    "            \n",
    "            \n",
    "        \n",
    "#         cover_percent_2 = getEllipseCoverPercent(current_mask_data, 2)\n",
    "\n",
    "#         if cover_percent_2 > minimum_cover_percent:\n",
    "#             output_csv_rows_list.append({\n",
    "#                 \"source_file\": line[0],\n",
    "#                 \"mask_uuid\": line[1],\n",
    "#                 \"left_x\": line[2],\n",
    "#                 \"right_x\": line[3],\n",
    "#                 \"top_y\": line[4],\n",
    "#                 \"bottom_y\": line[5],\n",
    "#                 \"id\": line[6]\n",
    "#             })\n",
    "#         else:\n",
    "#             cover_percent_3 = getEllipseCoverPercent(current_mask_data, 3)\n",
    "#             if cover_percent_3 > minimum_cover_percent:\n",
    "#                 output_csv_rows_list.append({\n",
    "#                     \"source_file\": line[0],\n",
    "#                     \"mask_uuid\": line[1],\n",
    "#                     \"left_x\": line[2],\n",
    "#                     \"right_x\": line[3],\n",
    "#                     \"top_y\": line[4],\n",
    "#                     \"bottom_y\": line[5],\n",
    "#                     \"id\": line[6]\n",
    "#                 })\n",
    "#             else:\n",
    "#                 cover_percent_4 = getEllipseCoverPercent(current_mask_data, 4)\n",
    "#                 if cover_percent_4 > minimum_cover_percent:\n",
    "#                     output_csv_rows_list.append({\n",
    "#                         \"source_file\": line[0],\n",
    "#                         \"mask_uuid\": line[1],\n",
    "#                         \"left_x\": line[2],\n",
    "#                         \"right_x\": line[3],\n",
    "#                         \"top_y\": line[4],\n",
    "#                         \"bottom_y\": line[5],\n",
    "#                         \"id\": line[6]\n",
    "#                     })\n",
    "                    \n",
    "                    \n",
    "with open(output_csv_file_path, 'w', newline='') as file:\n",
    "    writer = csv.DictWriter(file, fieldnames=csv_field_names)\n",
    "    print(f'Writing {len(output_csv_rows_list)} filtered lines to {output_csv_filename}')\n",
    "    writer.writerows(output_csv_rows_list)"
   ]
  }
 ],
 "metadata": {
  "colab": {
   "collapsed_sections": [],
   "machine_shape": "hm",
   "name": "Copy of Cell Mask Filter Module",
   "provenance": []
  },
  "kernelspec": {
   "display_name": "Python 3",
   "language": "python",
   "name": "python3"
  },
  "language_info": {
   "codemirror_mode": {
    "name": "ipython",
    "version": 3
   },
   "file_extension": ".py",
   "mimetype": "text/x-python",
   "name": "python",
   "nbconvert_exporter": "python",
   "pygments_lexer": "ipython3",
   "version": "3.8.0"
  }
 },
 "nbformat": 4,
 "nbformat_minor": 1
}
