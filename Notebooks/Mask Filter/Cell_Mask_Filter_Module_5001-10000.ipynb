{
 "cells": [
  {
   "cell_type": "markdown",
   "metadata": {
    "colab_type": "text",
    "id": "zKLyfb8fm7sy"
   },
   "source": [
    "# Imports"
   ]
  },
  {
   "cell_type": "code",
   "execution_count": 1,
   "metadata": {
    "colab": {},
    "colab_type": "code",
    "id": "ghkCkfgbtLUv"
   },
   "outputs": [],
   "source": [
    "use_kaggle=False\n",
    "use_jupyter=True"
   ]
  },
  {
   "cell_type": "code",
   "execution_count": 2,
   "metadata": {
    "colab": {},
    "colab_type": "code",
    "id": "XaEX0_ddtO_t"
   },
   "outputs": [
    {
     "name": "stdout",
     "output_type": "stream",
     "text": [
      "Using Jupyter\n",
      " Volume in drive C has no label.\n",
      " Volume Serial Number is B0A9-3BF3\n",
      "\n",
      " Directory of C:\\develop\\python\\Final Project\\Data\n",
      "\n",
      "09/04/2020  13:50    <DIR>          .\n",
      "09/04/2020  13:50    <DIR>          ..\n",
      "09/04/2020  11:29         9,955,043 Data.zip\n",
      "07/04/2020  16:24    <DIR>          extracted-masks-images\n",
      "07/04/2020  16:24         1,856,537 extracted_cells.csv\n",
      "07/04/2020  15:43    <DIR>          masks-images\n",
      "07/04/2020  15:43    <DIR>          resized-images\n",
      "               2 File(s)     11,811,580 bytes\n",
      "               5 Dir(s)  446,589,669,376 bytes free\n"
     ]
    }
   ],
   "source": [
    "if use_jupyter:\n",
    "    print(\"Using Jupyter\")\n",
    "    !dir \"C:/develop/python/Final Project/Data/\"\n",
    "elif use_kaggle:\n",
    "    print(\"Using Kaggle\")\n",
    "    !ls \"/kaggle/\"\n",
    "else:\n",
    "    print(\"Using Colab with drive\")\n",
    "    from google.colab import drive\n",
    "    drive.mount('/content/drive')\n",
    "    !ls \"/content/drive/My Drive/Colab Notebooks/ML course/\""
   ]
  },
  {
   "cell_type": "code",
   "execution_count": 3,
   "metadata": {
    "colab": {
     "base_uri": "https://localhost:8080/",
     "height": 50
    },
    "colab_type": "code",
    "id": "TQWdyLrxvffA",
    "outputId": "11645d4f-0ec2-486c-f2d0-93159fc3a3f2"
   },
   "outputs": [],
   "source": [
    "import numpy as np\n",
    "import pandas as pd\n",
    "import uuid\n",
    "import os\n",
    "import csv\n",
    "import matplotlib.pyplot as plt\n",
    "import matplotlib.image as mpimg\n",
    "import time\n",
    "import cv2\n",
    "from skimage import io\n",
    "from skimage import data, color, img_as_ubyte\n",
    "from skimage.feature import canny\n",
    "from skimage.transform import hough_ellipse\n",
    "from skimage.draw import ellipse_perimeter, ellipse"
   ]
  },
  {
   "cell_type": "markdown",
   "metadata": {
    "colab_type": "text",
    "id": "eTmnIqRWLY4J"
   },
   "source": [
    "# Consts and Setups"
   ]
  },
  {
   "cell_type": "code",
   "execution_count": 4,
   "metadata": {
    "colab": {},
    "colab_type": "code",
    "id": "9gMAOe8zKsB8"
   },
   "outputs": [],
   "source": [
    "if use_jupyter:\n",
    "    root_input_dir = 'C:/develop/python/Final Project/Data/'\n",
    "    root_output_dir = 'C:/develop/python/Final Project/Data/'\n",
    "elif use_kaggle:\n",
    "    root_input_dir = '/kaggle/input/'\n",
    "    root_output_dir = '/kaggle/working/output/'\n",
    "else:\n",
    "    root_input_dir = '/content/drive/My Drive/Colab Notebooks/ML course/Final Project - BioCell/'\n",
    "    root_output_dir = '/content/drive/My Drive/Colab Notebooks/ML course/Final Project - BioCell/'"
   ]
  },
  {
   "cell_type": "code",
   "execution_count": 11,
   "metadata": {
    "colab": {
     "base_uri": "https://localhost:8080/",
     "height": 34
    },
    "colab_type": "code",
    "id": "pM0AbeMji2QQ",
    "outputId": "4513b507-b4ad-4a11-fbf3-ddc00b5094b8"
   },
   "outputs": [],
   "source": [
    "cell_masks_subdirectory = 'extracted-masks-images'\n",
    "minimum_cover_percent = 89\n",
    "max_factor_size = 4\n",
    "uuid_row_index = 1\n",
    "input_csv_filename = 'extracted_cells.csv'\n",
    "output_csv_filename = 'filtered_cells.csv'\n",
    "images_extension = \".png\"\n",
    "csv_field_names = ['source_file', 'mask_uuid', 'left_x', 'right_x', 'top_y', 'bottom_y', 'id']\n",
    "start_line=5001\n",
    "end_line=10000"
   ]
  },
  {
   "cell_type": "code",
   "execution_count": 6,
   "metadata": {
    "colab": {},
    "colab_type": "code",
    "id": "WY7FCIu9tbuX"
   },
   "outputs": [
    {
     "data": {
      "text/plain": [
       "<Figure size 432x288 with 0 Axes>"
      ]
     },
     "metadata": {},
     "output_type": "display_data"
    }
   ],
   "source": [
    "plt.gray()\n",
    "np.seterr(divide='ignore', invalid='ignore')\n",
    "\n",
    "# Inputs\n",
    "input_csv_file_path = root_input_dir + input_csv_filename\n",
    "masks_images_path = root_input_dir + cell_masks_subdirectory + '/'\n",
    "input_csv_rows_list = []\n",
    "\n",
    "# Outputs\n",
    "output_csv_rows_list = []\n",
    "output_csv_file_path = root_output_dir + f'{start_line}-{end_line}_' + output_csv_filename"
   ]
  },
  {
   "cell_type": "markdown",
   "metadata": {
    "colab_type": "text",
    "id": "4axJS2fBcd4I"
   },
   "source": [
    "# Function Definition"
   ]
  },
  {
   "cell_type": "code",
   "execution_count": 7,
   "metadata": {
    "colab": {},
    "colab_type": "code",
    "id": "k_mdlzCfuUsm"
   },
   "outputs": [],
   "source": [
    "def getMaskBestEllipse(mask_data):\n",
    "    edges = canny(mask_data, sigma=2.0, low_threshold=0.55, high_threshold=0.8)\n",
    "    ellipses_data = hough_ellipse(edges, accuracy=10, threshold=40, min_size=0, max_size=500)\n",
    "    ellipses_data.sort(order='accumulator')\n",
    "    best = list(ellipses_data[-1])\n",
    "    yc, xc, a, b = [int(round(x)) for x in best[1:5]]\n",
    "    orientation = best[5]\n",
    "    return yc, xc, a, b, orientation"
   ]
  },
  {
   "cell_type": "code",
   "execution_count": 8,
   "metadata": {
    "colab": {},
    "colab_type": "code",
    "id": "mY5xoPLYuUvR"
   },
   "outputs": [],
   "source": [
    "def resizeImage(image_data, scale_size):\n",
    "    width = int(current_mask_data.shape[1] * scale_size)\n",
    "    height = int(current_mask_data.shape[0] * scale_size)\n",
    "    dim = (width, height)\n",
    "    # resize image\n",
    "    return cv2.resize(current_mask_data, dim, interpolation = cv2.INTER_AREA)"
   ]
  },
  {
   "cell_type": "code",
   "execution_count": 9,
   "metadata": {
    "colab": {},
    "colab_type": "code",
    "id": "0jRsULKSdekP"
   },
   "outputs": [],
   "source": [
    "def getEllipseCoverPercent(mask_data, factor_size):\n",
    "    # Resize the image first\n",
    "    resized_image = resizeImage(mask_data, factor_size)\n",
    "    mask_copy = resized_image.copy()\n",
    "\n",
    "    # Get the best ellipse that covers the mask\n",
    "    yc, xc, a, b, orientation = getMaskBestEllipse(resized_image)\n",
    "\n",
    "    # Try to draw the best ellipse on the mask\n",
    "    try:\n",
    "        # Get the indices of the ellipse fill and the ellipse perimiter\n",
    "        perimiter_y, perimiter_x = ellipse_perimeter(yc, xc, a, b, orientation)\n",
    "        fill_y, fill_x = ellipse(yc, xc, a, b, rotation=-orientation)\n",
    "\n",
    "        # Set 0 (black) in the mask copy where the indexes are located\n",
    "        mask_copy[list(perimiter_y), list(perimiter_x)] = 0\n",
    "        mask_copy[list(fill_y), list(fill_x)] = 0\n",
    "        \n",
    "        # Get the number of nonzero pixels - that is the number of mask pixels that the ellipse does not cover\n",
    "        full_mask_nonzero = np.count_nonzero(resized_image)\n",
    "        ellipse_non_zero = np.count_nonzero(mask_copy)\n",
    "\n",
    "        return ((full_mask_nonzero - ellipse_non_zero) / full_mask_nonzero) * 100\n",
    "    except:\n",
    "        print(f'Could not get ellipse for factor size {factor_size}')\n",
    "        return 0"
   ]
  },
  {
   "cell_type": "markdown",
   "metadata": {
    "colab_type": "text",
    "id": "JDx2tjOYudtu"
   },
   "source": [
    "# Filter Logic"
   ]
  },
  {
   "cell_type": "code",
   "execution_count": 12,
   "metadata": {
    "colab": {
     "base_uri": "https://localhost:8080/",
     "height": 185
    },
    "colab_type": "code",
    "id": "RHFtGbT1zWXb",
    "outputId": "993b5620-e8ab-40c0-acdc-6be17734c896"
   },
   "outputs": [
    {
     "name": "stdout",
     "output_type": "stream",
     "text": [
      "Writing 3118 filtered lines to filtered_cells.csv\n"
     ]
    }
   ],
   "source": [
    "# TODO:\n",
    "# Read the csv file, which is the output of the extraction module\n",
    "# Loop over the lines and foreach line extract and read the mask image (using the uuid)\n",
    "# get the ellipse data from the getMaskBestEllipse function\n",
    "# set the mask copy values to 0 (black) in the ellipse area\n",
    "# calculate the number of nonzero pixels in the mask copy\n",
    "# if it exceeds a predefined value (max_white_pixel_outside_ellipse, need to decide what is the best value) - it's not a good filter\n",
    "# if it does not exceed - a good filter, insert the line from the input csv to a new output csv\n",
    "\n",
    "with open(input_csv_file_path) as csv_file:\n",
    "    csv_reader = csv.reader(csv_file, delimiter=',')\n",
    "    input_csv_rows_list = list(csv_reader)\n",
    "    counter = start_line\n",
    "    for line in input_csv_rows_list[start_line:end_line + 1]:\n",
    "        start = time.time()\n",
    "        counter = counter + 1\n",
    "        # Get the mask data\n",
    "        current_mask_uuid = line[uuid_row_index]\n",
    "        current_mask_filename = current_mask_uuid + images_extension\n",
    "        current_mask_data = io.imread(masks_images_path + current_mask_filename, as_gray=True)\n",
    "\n",
    "        factor_size = 2\n",
    "        ellipse_detected = False\n",
    "        \n",
    "        while factor_size <= max_factor_size and not ellipse_detected:\n",
    "            # Get the coverage percent for the curretn sace factor\n",
    "            current_cover_percent = getEllipseCoverPercent(current_mask_data, factor_size)\n",
    "\n",
    "            # If the coverage percentage is greater than the wanted minimum - this is a good mask\n",
    "            if current_cover_percent > minimum_cover_percent:\n",
    "                ellipse_detected = True\n",
    "                output_csv_rows_list.append({\n",
    "                    \"source_file\": line[0],\n",
    "                    \"mask_uuid\": line[1],\n",
    "                    \"left_x\": line[2],\n",
    "                    \"right_x\": line[3],\n",
    "                    \"top_y\": line[4],\n",
    "                    \"bottom_y\": line[5],\n",
    "                    \"id\": line[6]\n",
    "                })\n",
    "            \n",
    "            factor_size = factor_size + 1\n",
    "        end = time.time()\n",
    "        print(f'line number {counter} - time {end - start} seconds')\n",
    "\n",
    "                    \n",
    "with open(output_csv_file_path, 'w', newline='') as file:\n",
    "    writer = csv.DictWriter(file, fieldnames=csv_field_names)\n",
    "    print(f'Writing {len(output_csv_rows_list)} filtered lines to {output_csv_filename}')\n",
    "    writer.writerows(output_csv_rows_list)"
   ]
  }
 ],
 "metadata": {
  "colab": {
   "collapsed_sections": [],
   "machine_shape": "hm",
   "name": "Copy of Cell Mask Filter Module",
   "provenance": []
  },
  "kernelspec": {
   "display_name": "Python 3",
   "language": "python",
   "name": "python3"
  },
  "language_info": {
   "codemirror_mode": {
    "name": "ipython",
    "version": 3
   },
   "file_extension": ".py",
   "mimetype": "text/x-python",
   "name": "python",
   "nbconvert_exporter": "python",
   "pygments_lexer": "ipython3",
   "version": "3.8.0"
  }
 },
 "nbformat": 4,
 "nbformat_minor": 1
}
